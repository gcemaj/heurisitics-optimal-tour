{
 "cells": [
  {
   "cell_type": "code",
   "execution_count": 75,
   "metadata": {},
   "outputs": [],
   "source": [
    "from typing import List\n",
    "\n",
    "import pandas as pd\n",
    "from io import TextIOWrapper\n",
    "from sklearn.cluster import KMeans\n",
    "from matplotlib import pyplot as plt\n",
    "from dataclasses import dataclass\n",
    "from random import shuffle, sample, random, randint"
   ]
  },
  {
   "cell_type": "code",
   "execution_count": 276,
   "metadata": {},
   "outputs": [],
   "source": [
    "@dataclass\n",
    "class Candidate:\n",
    "    sites: List[List[int]]\n",
    "\n",
    "    def calculate_fitness(self, site_schedule: pd.DataFrame, sites: pd.DataFrame) -> float:\n",
    "        score = 0.0\n",
    "        for day, i in enumerate(self.sites, start=1):\n",
    "            current_time = None\n",
    "            current_location = None\n",
    "            for site in i:\n",
    "                current_site = sites[(sites.site == site)].iloc[0]\n",
    "                current_schedule = site_schedule[(site_schedule.site == site) & (site_schedule.day == day)].iloc[0]\n",
    "\n",
    "                if current_time is None:\n",
    "                    current_time = current_schedule['beginhour'] * 60\n",
    "                else:\n",
    "                    current_avenue, current_street = current_location\n",
    "                    current_time += abs(current_avenue - current_site[\"avenue\"]) + abs(current_street - current_site[\"street\"])\n",
    "\n",
    "                if current_time > 24*60:\n",
    "                    break\n",
    "                \n",
    "                current_location = (current_site[\"avenue\"], current_site[\"street\"])\n",
    "                if (current_schedule['beginhour'] * 60) > current_time:\n",
    "                    current_time = (current_schedule['beginhour'] * 60)\n",
    "                \n",
    "                if (current_schedule['beginhour'] * 60) <= current_time and (current_time + current_site[\"desiredtime\"]) <= (current_schedule[\"endhour\"] * 60):\n",
    "                    score += current_site[\"value\"]\n",
    "                    current_time += current_site[\"desiredtime\"]\n",
    "                else:\n",
    "                    current_time = max(current_time, current_schedule[\"endhour\"]*60)\n",
    "        return score\n",
    "    \n",
    "    def mutate(self) -> Candidate:\n",
    "        roll = random()\n",
    "        day_roll = random()\n",
    "        sites = [list(i) for i in self.sites]\n",
    "        if roll <= 0.5:\n",
    "            # mutaute a sigle day\n",
    "            day_sites = sites[randint(0, len(sites) - 1)]\n",
    "            i, j = sample([i for i in range(len(day_sites))], k=2)\n",
    "            day_sites[i], day_sites[j] = day_sites[j], day_sites[i]\n",
    "        else:\n",
    "            # move site accross days\n",
    "            origin_i, destination_i = sample([i for i in range(len(sites))], k=2)\n",
    "            origin_sites = sites[origin_i]\n",
    "            destination_sites = sites[destination_i] \n",
    "\n",
    "            rand_split = randint(0, len(destination_sites) - 1)      \n",
    "            destination_sites = destination_sites[:rand_split] + [origin_sites.pop(randint(0, len(origin_sites) - 1))] + destination_sites[rand_split:]\n",
    "        \n",
    "        return Candidate(sites=sites)\n"
   ]
  },
  {
   "cell_type": "code",
   "execution_count": 277,
   "metadata": {},
   "outputs": [],
   "source": [
    "def parse_lines(file: TextIOWrapper, delimeter = \" \"):\n",
    "    headers = [i for i in file.readline().rstrip().split(delimeter)]\n",
    "    data = []\n",
    "    while True:\n",
    "        line = file.readline().strip()\n",
    "        if line == \"\" or not line:\n",
    "            break\n",
    "        data.append([float(i) for i in line.rstrip().split(delimeter)])\n",
    "    return pd.DataFrame(data=data, columns=headers)\n"
   ]
  },
  {
   "cell_type": "code",
   "execution_count": 278,
   "metadata": {},
   "outputs": [],
   "source": [
    "def parse_file(file_name):\n",
    "    with open(file_name) as f:\n",
    "        sites = parse_lines(f)\n",
    "        site_schedules = parse_lines(f)\n",
    "    return sites, site_schedules"
   ]
  },
  {
   "cell_type": "code",
   "execution_count": 286,
   "metadata": {},
   "outputs": [],
   "source": [
    "def compute_optimal_path(file_name, population_size=100, max_iter=75):\n",
    "    sites, site_schedules = parse_file(file_name)\n",
    "\n",
    "    num_days = int(site_schedules.day.max())\n",
    "\n",
    "    df_cluster = sites[['avenue', 'street']]\n",
    "    kmeans = KMeans(num_days)\n",
    "\n",
    "    clusters = kmeans.fit_predict(sites[['avenue', 'street']].to_numpy())\n",
    "\n",
    "    initial_days = [[] for i in range(num_days)]\n",
    "\n",
    "    for i, cluster in enumerate(clusters, start = 1):\n",
    "        initial_days[cluster].append((i, site_schedules[(site_schedules.site==i) & (site_schedules.day == (cluster+1))].iloc[0].beginhour))\n",
    "\n",
    "    initial_days = [[i for i,_ in sorted(i, reverse=True, key=lambda x: x[1])] for i in initial_days]\n",
    "\n",
    "    init_candidate = Candidate(sites=[sample(i, len(i)) for i in initial_days])\n",
    "    population = [(init_candidate, init_candidate.calculate_fitness(site_schedules, sites))]\n",
    "\n",
    "    for i in range(population_size - 1):\n",
    "        candidate = init_candidate.mutate()\n",
    "        population.append((candidate, candidate.calculate_fitness(site_schedules, sites)))\n",
    "\n",
    "    for i in range(max_iter):\n",
    "        population = sorted(population, key=lambda x: x[1], reverse=True)[:int(len(population)/2)]\n",
    "        \n",
    "        if i % 100 == 0:\n",
    "            print(f\"iter num: {i}\", population[0][1], len(population))\n",
    "\n",
    "        new_population = []\n",
    "        for c,score in population:\n",
    "            new_candidate = c.mutate()\n",
    "            new_population.append((c, score))\n",
    "            new_population.append((new_candidate, new_candidate.calculate_fitness(site_schedules, sites)))\n",
    "        population = new_population\n",
    "    \n",
    "    return sorted(population, key=lambda x: x[1], reverse=True)[0]\n"
   ]
  },
  {
   "cell_type": "code",
   "execution_count": 215,
   "metadata": {},
   "outputs": [
    {
     "data": {
      "image/png": "[encoded data removed]",
      "text/plain": [
       "<Figure size 432x288 with 1 Axes>"
      ]
     },
     "metadata": {
      "needs_background": "light"
     },
     "output_type": "display_data"
    }
   ],
   "source": [
    "plt.scatter(df_cluster['avenue'], df_cluster['street'], c=clusters)\n",
    "plt.show()"
   ]
  },
  {
   "cell_type": "code",
   "execution_count": 288,
   "metadata": {},
   "outputs": [
    {
     "name": "stdout",
     "output_type": "stream",
     "text": [
      "iter num: 0 475.7999999999999 10\n"
     ]
    }
   ],
   "source": [
    "compute_optimal_path(\"./examples/example1.txt\", population_size=20, max_iter=1000)"
   ]
  },
  {
   "cell_type": "code",
   "execution_count": 283,
   "metadata": {},
   "outputs": [
    {
     "name": "stdout",
     "output_type": "stream",
     "text": [
      "iter num: 0 4723.0 50\n"
     ]
    },
    {
     "data": {
      "text/plain": [
       "(Candidate(sites=[[101, 83, 122, 104, 123, 20, 110, 145, 3, 105, 17, 62, 36, 109, 84, 86, 108, 13, 118, 124, 44, 126, 39, 41, 95, 43], [120, 8, 51, 81, 91, 18, 113, 130, 117, 121, 32, 76, 19, 47, 65, 54, 49, 74], [56, 128, 96, 78, 112, 103, 80, 66, 129, 12, 34, 75, 64, 4, 141, 21, 40, 85, 1], [15, 119, 33, 5, 68, 27, 2, 11, 35, 59, 16, 72, 90, 9, 77, 29, 82, 10, 73, 133], [60, 102, 111, 97, 26, 28, 57, 93, 125, 142, 146, 132, 67], [148, 134, 106, 137, 135, 88, 24, 138, 147, 30, 22, 100, 50, 70, 53, 46, 89, 6, 38, 61, 139, 127, 45, 136, 150, 131, 25, 115], [99, 92, 94, 87, 71, 55, 52, 23, 144, 31, 69, 107, 143, 140, 114, 42, 37, 116, 14]]),\n",
       " 7583.0)"
      ]
     },
     "execution_count": 283,
     "metadata": {},
     "output_type": "execute_result"
    }
   ],
   "source": [
    "compute_optimal_path(\"./examples/example3.txt\")"
   ]
  },
  {
   "cell_type": "code",
   "execution_count": 251,
   "metadata": {},
   "outputs": [
    {
     "data": {
      "text/plain": [
       "1046.9999999999998"
      ]
     },
     "execution_count": 251,
     "metadata": {},
     "output_type": "execute_result"
    }
   ],
   "source": [
    "sites, site_schedules = parse_file(\"./examples/example1.txt\")\n",
    "Candidate(sites=[[1,99,61,72,64,93],[2,57,71,89,96,37],[4,31,60,94]]).calculate_fitness(site_schedules, sites)"
   ]
  }
 ],
 "metadata": {
  "kernelspec": {
   "display_name": "Python 3.10.4 ('py310')",
   "language": "python",
   "name": "python3"
  },
  "language_info": {
   "codemirror_mode": {
    "name": "ipython",
    "version": 3
   },
   "file_extension": ".py",
   "mimetype": "text/x-python",
   "name": "python",
   "nbconvert_exporter": "python",
   "pygments_lexer": "ipython3",
   "version": "3.10.4"
  },
  "orig_nbformat": 4,
  "vscode": {
   "interpreter": {
    "hash": "7af69d84c46e0da4f71f361435e72c01e713b5d1fcbc89c051c042527a934273"
   }
  }
 },
 "nbformat": 4,
 "nbformat_minor": 2
}
